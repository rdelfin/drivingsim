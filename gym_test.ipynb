{
 "cells": [
  {
   "cell_type": "code",
   "execution_count": 1,
   "id": "bbec42aa-76e7-4880-b220-1f7266c15533",
   "metadata": {},
   "outputs": [],
   "source": [
    "from drivingsim import Action, Simulator, VehicleState\n",
    "import math\n",
    "import gymnasium as gym\n",
    "import numpy as np\n",
    "import drivingsim_rl"
   ]
  },
  {
   "cell_type": "code",
   "execution_count": 2,
   "id": "b70fb663-6c61-4690-9152-352fd625b4e0",
   "metadata": {},
   "outputs": [
    {
     "name": "stderr",
     "output_type": "stream",
     "text": [
      "/home/rdelfin/code/rust/drivingsim/venv/lib/python3.12/site-packages/gymnasium/spaces/box.py:235: UserWarning: \u001b[33mWARN: Box low's precision lowered by casting to float32, current low.dtype=float64\u001b[0m\n",
      "  gym.logger.warn(\n",
      "/home/rdelfin/code/rust/drivingsim/venv/lib/python3.12/site-packages/gymnasium/spaces/box.py:305: UserWarning: \u001b[33mWARN: Box high's precision lowered by casting to float32, current high.dtype=float64\u001b[0m\n",
      "  gym.logger.warn(\n"
     ]
    }
   ],
   "source": [
    "drivingsim_rl.register_driving_sim()\n",
    "env = gym.make(\"gymnasium_env/RandomDrivingSim-v0\")"
   ]
  },
  {
   "cell_type": "code",
   "execution_count": 7,
   "id": "ff73c2b3-915e-48a2-85d1-8ec69f2171c0",
   "metadata": {},
   "outputs": [
    {
     "name": "stdout",
     "output_type": "stream",
     "text": [
      "Step: 1\n",
      "Step: 10\n",
      "Step: 20\n",
      "Step: 30\n",
      "Step: 40\n",
      "Step: 50\n",
      "Step: 60\n",
      "Step: 70\n",
      "Step: 80\n",
      "Step: 90\n",
      "Step: 100\n",
      "Step: 110\n",
      "Step: 120\n",
      "Step: 130\n",
      "Step: 140\n",
      "Step: 150\n",
      "Step: 160\n",
      "Step: 170\n",
      "Step: 180\n",
      "Step: 190\n",
      "Step: 200\n",
      "Step: 210\n",
      "Step: 220\n",
      "Step: 230\n",
      "Step: 240\n",
      "Step: 250\n",
      "Step: 260\n",
      "Step: 270\n",
      "Step: 280\n",
      "Step: 290\n",
      "Step: 300\n",
      "Step: 310\n",
      "Step: 320\n",
      "Step: 330\n",
      "Step: 340\n",
      "Step: 350\n",
      "Step: 360\n",
      "Step: 370\n",
      "Step: 380\n",
      "Step: 390\n",
      "Step: 400\n",
      "Step: 410\n",
      "Step: 420\n",
      "Step: 430\n",
      "Step: 440\n",
      "Step: 450\n",
      "Step: 460\n",
      "Step: 470\n",
      "Step: 480\n",
      "Step: 490\n",
      "Step: 500\n",
      "Step: 510\n",
      "Step: 520\n",
      "Step: 530\n",
      "Step: 540\n",
      "Step: 550\n",
      "Step: 560\n",
      "Step: 570\n",
      "Step: 580\n",
      "Step: 590\n",
      "Step: 600\n",
      "Step: 610\n",
      "Step: 620\n",
      "Step: 630\n",
      "Step: 640\n",
      "Step: 650\n",
      "Step: 660\n",
      "Step: 670\n",
      "Step: 680\n",
      "Step: 690\n",
      "Step: 700\n",
      "Step: 710\n",
      "Step: 720\n",
      "Step: 730\n",
      "Step: 740\n",
      "Step: 750\n"
     ]
    }
   ],
   "source": [
    "observation, info = env.reset()\n",
    "\n",
    "episode_over = False\n",
    "step = 0\n",
    "while not episode_over:\n",
    "    step += 1\n",
    "    if step % 10 == 0 or step == 1:\n",
    "        print(f\"Step: {step}\")\n",
    "    action = env.action_space.sample()  # agent policy that uses the observation and info\n",
    "    observation, reward, terminated, truncated, info = env.step(action)\n",
    "\n",
    "    episode_over = terminated or truncated\n",
    "\n",
    "env.close()"
   ]
  },
  {
   "cell_type": "code",
   "execution_count": null,
   "id": "86a2dda4-3b97-4c07-87f5-e5863ae82d74",
   "metadata": {},
   "outputs": [],
   "source": []
  }
 ],
 "metadata": {
  "kernelspec": {
   "display_name": "Python 3 (ipykernel)",
   "language": "python",
   "name": "python3"
  },
  "language_info": {
   "codemirror_mode": {
    "name": "ipython",
    "version": 3
   },
   "file_extension": ".py",
   "mimetype": "text/x-python",
   "name": "python",
   "nbconvert_exporter": "python",
   "pygments_lexer": "ipython3",
   "version": "3.12.3"
  }
 },
 "nbformat": 4,
 "nbformat_minor": 5
}
